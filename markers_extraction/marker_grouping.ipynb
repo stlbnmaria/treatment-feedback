{
 "cells": [
  {
   "cell_type": "code",
   "execution_count": null,
   "metadata": {},
   "outputs": [],
   "source": [
    "from collections import defaultdict\n",
    "import difflib\n",
    "import spacy\n",
    "import pandas as pd"
   ]
  },
  {
   "cell_type": "markdown",
   "metadata": {},
   "source": [
    "### Importing Data"
   ]
  },
  {
   "cell_type": "code",
   "execution_count": null,
   "metadata": {},
   "outputs": [],
   "source": [
    "path_to_csv = \"\"  # add your path here\n",
    "df = pd.read_csv(path_to_csv)"
   ]
  },
  {
   "cell_type": "markdown",
   "metadata": {},
   "source": [
    "### Grouping Markers: Levenshtein distance"
   ]
  },
  {
   "cell_type": "code",
   "execution_count": null,
   "metadata": {},
   "outputs": [],
   "source": [
    "# create single list of keywords\n",
    "list_keywords = df[\"Keyword\"][:500].tolist()\n",
    "# keeps unique elements\n",
    "unique_keywords = list(set(list_keywords))\n",
    "\n",
    "# configurable threshold the higher the more smiliar words have to be to be grouped\n",
    "levenshtein_threshold = 0.6\n",
    "similar_groups = []\n",
    "\n",
    "# iterate through each unique keyword\n",
    "for keyword in unique_keywords:\n",
    "    # initialize flag to track if the keyword belongs to an existing group\n",
    "    found_group = False\n",
    "\n",
    "    # iterate through existing groups\n",
    "    for group in similar_groups:\n",
    "        for existing_keyword in group:\n",
    "            # calculate  similarity between  current keyword and an existing keyword\n",
    "            similarity = difflib.SequenceMatcher(\n",
    "                None, keyword, existing_keyword\n",
    "            ).ratio()\n",
    "            # if the similarity is above threshold, add the keyword to group\n",
    "            if similarity > levenshtein_threshold:\n",
    "                group.append(keyword)\n",
    "                found_group = True\n",
    "                # break inner loop since keyword already in a group\n",
    "                break\n",
    "\n",
    "    # if keyword didn't match existing group, create a new group\n",
    "    if not found_group:\n",
    "        similar_groups.append([keyword])\n",
    "\n",
    "# print groups\n",
    "print(\"Groups based on Levenshtein Distance:\")\n",
    "for group in similar_groups:\n",
    "    print(group)"
   ]
  },
  {
   "cell_type": "markdown",
   "metadata": {},
   "source": [
    "### Grouping Markers: Pretrained Pipeline"
   ]
  },
  {
   "cell_type": "code",
   "execution_count": null,
   "metadata": {},
   "outputs": [],
   "source": [
    "# load spaCy model with word vectors\n",
    "nlp = spacy.load(\"en_core_web_md\")\n",
    "\n",
    "# initialize dictionary to store similar groups of keywords\n",
    "similar_groups = defaultdict(list)\n",
    "\n",
    "# iterate through each unique keyword\n",
    "for keyword1 in unique_keywords:\n",
    "    # initialize flag to track if  keyword belongs to an existing group\n",
    "    group_found = False\n",
    "\n",
    "    for group, group_keywords in similar_groups.items():\n",
    "        # check if keyword  similar to any keyword in the group\n",
    "        # configurable threshold the higher the more smiliar words have to be to be grouped\n",
    "        similarity_threshold = 0.8\n",
    "\n",
    "        # check if current keyword is similar to any keyword in  group\n",
    "        if any(\n",
    "            nlp(keyword1).similarity(nlp(keyword2)) >= similarity_threshold\n",
    "            for keyword2 in group_keywords\n",
    "        ):\n",
    "            # if similarity is above threshold, add the current keyword to  group\n",
    "            group_keywords.append(keyword1)\n",
    "            group_found = True\n",
    "            # break inner loop since keyword already in a group\n",
    "            break\n",
    "\n",
    "    # if keyword didn't match existing group, create a new group\n",
    "    if not group_found:\n",
    "        similar_groups[keyword1].append(keyword1)\n",
    "\n",
    "# Print grouped side effects\n",
    "for group, keywords in similar_groups.items():\n",
    "    print(f\"Group: {group} - Similar Keywords: {', '.join(keywords)}\")"
   ]
  }
 ],
 "metadata": {
  "kernelspec": {
   "display_name": "Quinten",
   "language": "python",
   "name": "python3"
  },
  "language_info": {
   "codemirror_mode": {
    "name": "ipython",
    "version": 3
   },
   "file_extension": ".py",
   "mimetype": "text/x-python",
   "name": "python",
   "nbconvert_exporter": "python",
   "pygments_lexer": "ipython3",
   "version": "3.10.13"
  }
 },
 "nbformat": 4,
 "nbformat_minor": 2
}
