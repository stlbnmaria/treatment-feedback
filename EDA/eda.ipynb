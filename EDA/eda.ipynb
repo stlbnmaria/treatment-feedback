{
 "cells": [
  {
   "cell_type": "code",
   "execution_count": 3,
   "metadata": {},
   "outputs": [],
   "source": [
    "import pandas as pd\n",
    "from pathlib import Path"
   ]
  },
  {
   "cell_type": "code",
   "execution_count": 5,
   "metadata": {},
   "outputs": [],
   "source": [
    "processed_data_path = Path(\"../data_preprocessing/data/preprocessed.csv\")\n",
    "df = pd.read_csv(processed_data_path)"
   ]
  },
  {
   "cell_type": "code",
   "execution_count": 7,
   "metadata": {},
   "outputs": [
    {
     "data": {
      "text/html": [
       "<div>\n",
       "<style scoped>\n",
       "    .dataframe tbody tr th:only-of-type {\n",
       "        vertical-align: middle;\n",
       "    }\n",
       "\n",
       "    .dataframe tbody tr th {\n",
       "        vertical-align: top;\n",
       "    }\n",
       "\n",
       "    .dataframe thead th {\n",
       "        text-align: right;\n",
       "    }\n",
       "</style>\n",
       "<table border=\"1\" class=\"dataframe\">\n",
       "  <thead>\n",
       "    <tr style=\"text-align: right;\">\n",
       "      <th></th>\n",
       "      <th>text_index</th>\n",
       "      <th>medication</th>\n",
       "      <th>rate</th>\n",
       "      <th>comment</th>\n",
       "      <th>treatment</th>\n",
       "      <th>disease</th>\n",
       "      <th>antibody</th>\n",
       "      <th>processed_comment</th>\n",
       "    </tr>\n",
       "  </thead>\n",
       "  <tbody>\n",
       "    <tr>\n",
       "      <th>0</th>\n",
       "      <td>0</td>\n",
       "      <td>Inflectra (infliximab) for Crohn's Disease</td>\n",
       "      <td>1.0</td>\n",
       "      <td>Insurance forced me to switch to inflectra due...</td>\n",
       "      <td>Inflectra</td>\n",
       "      <td>Crohn's Disease</td>\n",
       "      <td>infliximab</td>\n",
       "      <td>['insurance', 'forced', 'switch', 'inflectra',...</td>\n",
       "    </tr>\n",
       "    <tr>\n",
       "      <th>1</th>\n",
       "      <td>2</td>\n",
       "      <td>Remicade (infliximab) for Ulcerative Colitis</td>\n",
       "      <td>1.0</td>\n",
       "      <td>This medication Remicade made me in constant p...</td>\n",
       "      <td>Remicade</td>\n",
       "      <td>Ulcerative Colitis</td>\n",
       "      <td>infliximab</td>\n",
       "      <td>['medication', 'remicade', 'made', 'constant',...</td>\n",
       "    </tr>\n",
       "    <tr>\n",
       "      <th>2</th>\n",
       "      <td>3</td>\n",
       "      <td>Inflectra (infliximab) for Crohn's Disease</td>\n",
       "      <td>1.0</td>\n",
       "      <td>I have Fistulizing Crohn's, dx'd 6 yrs ago @ 3...</td>\n",
       "      <td>Inflectra</td>\n",
       "      <td>Crohn's Disease</td>\n",
       "      <td>infliximab</td>\n",
       "      <td>['fistulizing', 'crohn', 'dxd', 'yr', 'ago', '...</td>\n",
       "    </tr>\n",
       "    <tr>\n",
       "      <th>3</th>\n",
       "      <td>4</td>\n",
       "      <td>Remicade (infliximab) for Ulcerative Colitis</td>\n",
       "      <td>10.0</td>\n",
       "      <td>Remicade literally gave me my life back 9 yrs ...</td>\n",
       "      <td>Remicade</td>\n",
       "      <td>Ulcerative Colitis</td>\n",
       "      <td>infliximab</td>\n",
       "      <td>['remicade', 'literally', 'gave', 'life', 'bac...</td>\n",
       "    </tr>\n",
       "    <tr>\n",
       "      <th>4</th>\n",
       "      <td>5</td>\n",
       "      <td>Remicade (infliximab) for Ulcerative Colitis</td>\n",
       "      <td>10.0</td>\n",
       "      <td>Life-changing. I once thought I was doomed to ...</td>\n",
       "      <td>Remicade</td>\n",
       "      <td>Ulcerative Colitis</td>\n",
       "      <td>infliximab</td>\n",
       "      <td>['lifechanging', 'thought', 'doomed', 'life', ...</td>\n",
       "    </tr>\n",
       "  </tbody>\n",
       "</table>\n",
       "</div>"
      ],
      "text/plain": [
       "   text_index                                    medication  rate  \\\n",
       "0           0    Inflectra (infliximab) for Crohn's Disease   1.0   \n",
       "1           2  Remicade (infliximab) for Ulcerative Colitis   1.0   \n",
       "2           3    Inflectra (infliximab) for Crohn's Disease   1.0   \n",
       "3           4  Remicade (infliximab) for Ulcerative Colitis  10.0   \n",
       "4           5  Remicade (infliximab) for Ulcerative Colitis  10.0   \n",
       "\n",
       "                                             comment  treatment  \\\n",
       "0  Insurance forced me to switch to inflectra due...  Inflectra   \n",
       "1  This medication Remicade made me in constant p...   Remicade   \n",
       "2  I have Fistulizing Crohn's, dx'd 6 yrs ago @ 3...  Inflectra   \n",
       "3  Remicade literally gave me my life back 9 yrs ...   Remicade   \n",
       "4  Life-changing. I once thought I was doomed to ...   Remicade   \n",
       "\n",
       "              disease    antibody  \\\n",
       "0     Crohn's Disease  infliximab   \n",
       "1  Ulcerative Colitis  infliximab   \n",
       "2     Crohn's Disease  infliximab   \n",
       "3  Ulcerative Colitis  infliximab   \n",
       "4  Ulcerative Colitis  infliximab   \n",
       "\n",
       "                                   processed_comment  \n",
       "0  ['insurance', 'forced', 'switch', 'inflectra',...  \n",
       "1  ['medication', 'remicade', 'made', 'constant',...  \n",
       "2  ['fistulizing', 'crohn', 'dxd', 'yr', 'ago', '...  \n",
       "3  ['remicade', 'literally', 'gave', 'life', 'bac...  \n",
       "4  ['lifechanging', 'thought', 'doomed', 'life', ...  "
      ]
     },
     "execution_count": 7,
     "metadata": {},
     "output_type": "execute_result"
    }
   ],
   "source": [
    "df.head()"
   ]
  },
  {
   "cell_type": "code",
   "execution_count": null,
   "metadata": {},
   "outputs": [],
   "source": []
  }
 ],
 "metadata": {
  "kernelspec": {
   "display_name": ".venv",
   "language": "python",
   "name": "python3"
  },
  "language_info": {
   "codemirror_mode": {
    "name": "ipython",
    "version": 3
   },
   "file_extension": ".py",
   "mimetype": "text/x-python",
   "name": "python",
   "nbconvert_exporter": "python",
   "pygments_lexer": "ipython3",
   "version": "3.10.7"
  },
  "orig_nbformat": 4
 },
 "nbformat": 4,
 "nbformat_minor": 2
}
