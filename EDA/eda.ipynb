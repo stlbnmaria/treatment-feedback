{
 "cells": [
  {
   "cell_type": "markdown",
   "metadata": {},
   "source": [
    "# Exploratory data analysis\n",
    "\n",
    "This notebook helps to understand the metadata better, incl. product portfolio per disease, missing data for treatment / antibodies and rating, as well as the distribution of the rating."
   ]
  },
  {
   "cell_type": "code",
   "execution_count": 1,
   "metadata": {},
   "outputs": [],
   "source": [
    "import pandas as pd\n",
    "from pathlib import Path"
   ]
  },
  {
   "cell_type": "code",
   "execution_count": 2,
   "metadata": {},
   "outputs": [],
   "source": [
    "processed_data_path = Path(\"../data_preprocessing/data/preprocessed.csv\")\n",
    "df = pd.read_csv(processed_data_path)"
   ]
  },
  {
   "cell_type": "code",
   "execution_count": 3,
   "metadata": {},
   "outputs": [
    {
     "data": {
      "text/html": [
       "<div>\n",
       "<style scoped>\n",
       "    .dataframe tbody tr th:only-of-type {\n",
       "        vertical-align: middle;\n",
       "    }\n",
       "\n",
       "    .dataframe tbody tr th {\n",
       "        vertical-align: top;\n",
       "    }\n",
       "\n",
       "    .dataframe thead th {\n",
       "        text-align: right;\n",
       "    }\n",
       "</style>\n",
       "<table border=\"1\" class=\"dataframe\">\n",
       "  <thead>\n",
       "    <tr style=\"text-align: right;\">\n",
       "      <th></th>\n",
       "      <th>text_index</th>\n",
       "      <th>medication</th>\n",
       "      <th>rate</th>\n",
       "      <th>comment</th>\n",
       "      <th>treatment</th>\n",
       "      <th>disease</th>\n",
       "      <th>antibody</th>\n",
       "      <th>processed_comment</th>\n",
       "    </tr>\n",
       "  </thead>\n",
       "  <tbody>\n",
       "    <tr>\n",
       "      <th>0</th>\n",
       "      <td>0</td>\n",
       "      <td>Inflectra (infliximab) for Crohn's Disease</td>\n",
       "      <td>1.0</td>\n",
       "      <td>Insurance forced me to switch to inflectra due...</td>\n",
       "      <td>Inflectra</td>\n",
       "      <td>Crohn's Disease</td>\n",
       "      <td>infliximab</td>\n",
       "      <td>['insurance', 'forced', 'switch', 'inflectra',...</td>\n",
       "    </tr>\n",
       "    <tr>\n",
       "      <th>1</th>\n",
       "      <td>2</td>\n",
       "      <td>Remicade (infliximab) for Ulcerative Colitis</td>\n",
       "      <td>1.0</td>\n",
       "      <td>This medication Remicade made me in constant p...</td>\n",
       "      <td>Remicade</td>\n",
       "      <td>Ulcerative Colitis</td>\n",
       "      <td>infliximab</td>\n",
       "      <td>['medication', 'remicade', 'made', 'constant',...</td>\n",
       "    </tr>\n",
       "    <tr>\n",
       "      <th>2</th>\n",
       "      <td>3</td>\n",
       "      <td>Inflectra (infliximab) for Crohn's Disease</td>\n",
       "      <td>1.0</td>\n",
       "      <td>I have Fistulizing Crohn's, dx'd 6 yrs ago @ 3...</td>\n",
       "      <td>Inflectra</td>\n",
       "      <td>Crohn's Disease</td>\n",
       "      <td>infliximab</td>\n",
       "      <td>['fistulizing', 'crohn', 'dxd', 'yr', 'ago', '...</td>\n",
       "    </tr>\n",
       "    <tr>\n",
       "      <th>3</th>\n",
       "      <td>4</td>\n",
       "      <td>Remicade (infliximab) for Ulcerative Colitis</td>\n",
       "      <td>10.0</td>\n",
       "      <td>Remicade literally gave me my life back 9 yrs ...</td>\n",
       "      <td>Remicade</td>\n",
       "      <td>Ulcerative Colitis</td>\n",
       "      <td>infliximab</td>\n",
       "      <td>['remicade', 'literally', 'gave', 'life', 'bac...</td>\n",
       "    </tr>\n",
       "    <tr>\n",
       "      <th>4</th>\n",
       "      <td>5</td>\n",
       "      <td>Remicade (infliximab) for Ulcerative Colitis</td>\n",
       "      <td>10.0</td>\n",
       "      <td>Life-changing. I once thought I was doomed to ...</td>\n",
       "      <td>Remicade</td>\n",
       "      <td>Ulcerative Colitis</td>\n",
       "      <td>infliximab</td>\n",
       "      <td>['lifechanging', 'thought', 'doomed', 'life', ...</td>\n",
       "    </tr>\n",
       "  </tbody>\n",
       "</table>\n",
       "</div>"
      ],
      "text/plain": [
       "   text_index                                    medication  rate  \\\n",
       "0           0    Inflectra (infliximab) for Crohn's Disease   1.0   \n",
       "1           2  Remicade (infliximab) for Ulcerative Colitis   1.0   \n",
       "2           3    Inflectra (infliximab) for Crohn's Disease   1.0   \n",
       "3           4  Remicade (infliximab) for Ulcerative Colitis  10.0   \n",
       "4           5  Remicade (infliximab) for Ulcerative Colitis  10.0   \n",
       "\n",
       "                                             comment  treatment  \\\n",
       "0  Insurance forced me to switch to inflectra due...  Inflectra   \n",
       "1  This medication Remicade made me in constant p...   Remicade   \n",
       "2  I have Fistulizing Crohn's, dx'd 6 yrs ago @ 3...  Inflectra   \n",
       "3  Remicade literally gave me my life back 9 yrs ...   Remicade   \n",
       "4  Life-changing. I once thought I was doomed to ...   Remicade   \n",
       "\n",
       "              disease    antibody  \\\n",
       "0     Crohn's Disease  infliximab   \n",
       "1  Ulcerative Colitis  infliximab   \n",
       "2     Crohn's Disease  infliximab   \n",
       "3  Ulcerative Colitis  infliximab   \n",
       "4  Ulcerative Colitis  infliximab   \n",
       "\n",
       "                                   processed_comment  \n",
       "0  ['insurance', 'forced', 'switch', 'inflectra',...  \n",
       "1  ['medication', 'remicade', 'made', 'constant',...  \n",
       "2  ['fistulizing', 'crohn', 'dxd', 'yr', 'ago', '...  \n",
       "3  ['remicade', 'literally', 'gave', 'life', 'bac...  \n",
       "4  ['lifechanging', 'thought', 'doomed', 'life', ...  "
      ]
     },
     "execution_count": 3,
     "metadata": {},
     "output_type": "execute_result"
    }
   ],
   "source": [
    "df.head()"
   ]
  },
  {
   "cell_type": "markdown",
   "metadata": {},
   "source": [
    "## Missing data"
   ]
  },
  {
   "cell_type": "code",
   "execution_count": 4,
   "metadata": {},
   "outputs": [
    {
     "name": "stdout",
     "output_type": "stream",
     "text": [
      "Number of comments where the treatment is missing: 18\n"
     ]
    }
   ],
   "source": [
    "print(\"Number of comments where the treatment is missing:\", df.treatment.isna().sum())"
   ]
  },
  {
   "cell_type": "markdown",
   "metadata": {},
   "source": [
    "Let's have a look at the share of distributions of diseases where information about the treatment is missing."
   ]
  },
  {
   "cell_type": "code",
   "execution_count": 5,
   "metadata": {},
   "outputs": [
    {
     "data": {
      "text/plain": [
       "disease\n",
       "Crohn's Disease       10\n",
       "Ulcerative Colitis     8\n",
       "Name: disease, dtype: int64"
      ]
     },
     "execution_count": 5,
     "metadata": {},
     "output_type": "execute_result"
    }
   ],
   "source": [
    "df.loc[df.treatment.isna()].groupby(\"disease\").disease.count()"
   ]
  },
  {
   "cell_type": "code",
   "execution_count": 6,
   "metadata": {},
   "outputs": [
    {
     "data": {
      "text/html": [
       "<div>\n",
       "<style scoped>\n",
       "    .dataframe tbody tr th:only-of-type {\n",
       "        vertical-align: middle;\n",
       "    }\n",
       "\n",
       "    .dataframe tbody tr th {\n",
       "        vertical-align: top;\n",
       "    }\n",
       "\n",
       "    .dataframe thead th {\n",
       "        text-align: right;\n",
       "    }\n",
       "</style>\n",
       "<table border=\"1\" class=\"dataframe\">\n",
       "  <thead>\n",
       "    <tr style=\"text-align: right;\">\n",
       "      <th></th>\n",
       "      <th>text_index</th>\n",
       "      <th>comment</th>\n",
       "    </tr>\n",
       "  </thead>\n",
       "  <tbody>\n",
       "    <tr>\n",
       "      <th>54</th>\n",
       "      <td>89</td>\n",
       "      <td>I have been having infliximab infusions for Cr...</td>\n",
       "    </tr>\n",
       "    <tr>\n",
       "      <th>208</th>\n",
       "      <td>519</td>\n",
       "      <td>Started Vedolizamab for Crohn's diease April 2...</td>\n",
       "    </tr>\n",
       "    <tr>\n",
       "      <th>209</th>\n",
       "      <td>520</td>\n",
       "      <td>Was in remission when I began entyvio, within ...</td>\n",
       "    </tr>\n",
       "    <tr>\n",
       "      <th>212</th>\n",
       "      <td>523</td>\n",
       "      <td>10 years pancolitis.  Slipping and sliding wit...</td>\n",
       "    </tr>\n",
       "    <tr>\n",
       "      <th>213</th>\n",
       "      <td>524</td>\n",
       "      <td>I had the worst experience with this medicatio...</td>\n",
       "    </tr>\n",
       "    <tr>\n",
       "      <th>217</th>\n",
       "      <td>528</td>\n",
       "      <td>Very Good Experience with vedolizuma\\nStarted ...</td>\n",
       "    </tr>\n",
       "    <tr>\n",
       "      <th>218</th>\n",
       "      <td>529</td>\n",
       "      <td>I was severely ill from my diagnosis of ulcera...</td>\n",
       "    </tr>\n",
       "    <tr>\n",
       "      <th>219</th>\n",
       "      <td>530</td>\n",
       "      <td>I have had UC for about eight years and have b...</td>\n",
       "    </tr>\n",
       "    <tr>\n",
       "      <th>220</th>\n",
       "      <td>531</td>\n",
       "      <td>The good:\\nIt worked incredibly well for me wh...</td>\n",
       "    </tr>\n",
       "    <tr>\n",
       "      <th>221</th>\n",
       "      <td>532</td>\n",
       "      <td>I've had Crohn's for 20 years now- worst area ...</td>\n",
       "    </tr>\n",
       "    <tr>\n",
       "      <th>222</th>\n",
       "      <td>533</td>\n",
       "      <td>Started Vedolizumab in December 2021 had two i...</td>\n",
       "    </tr>\n",
       "    <tr>\n",
       "      <th>223</th>\n",
       "      <td>534</td>\n",
       "      <td>I had my 2nd loading dose. It floored me, cons...</td>\n",
       "    </tr>\n",
       "    <tr>\n",
       "      <th>224</th>\n",
       "      <td>535</td>\n",
       "      <td>I have been on vedolizumab for 5 months. It ha...</td>\n",
       "    </tr>\n",
       "    <tr>\n",
       "      <th>227</th>\n",
       "      <td>538</td>\n",
       "      <td>I have UC effecting my rectum and sigmoid. I h...</td>\n",
       "    </tr>\n",
       "    <tr>\n",
       "      <th>230</th>\n",
       "      <td>541</td>\n",
       "      <td>I have been on Entyvio for about a year and a ...</td>\n",
       "    </tr>\n",
       "    <tr>\n",
       "      <th>231</th>\n",
       "      <td>542</td>\n",
       "      <td>Started this drug vedolizumab in June 2020 aft...</td>\n",
       "    </tr>\n",
       "    <tr>\n",
       "      <th>274</th>\n",
       "      <td>634</td>\n",
       "      <td>Wow. I have tried every medication from 6mp me...</td>\n",
       "    </tr>\n",
       "    <tr>\n",
       "      <th>278</th>\n",
       "      <td>648</td>\n",
       "      <td>I was diagnosed with crohn’s disease at age 22...</td>\n",
       "    </tr>\n",
       "  </tbody>\n",
       "</table>\n",
       "</div>"
      ],
      "text/plain": [
       "     text_index                                            comment\n",
       "54           89  I have been having infliximab infusions for Cr...\n",
       "208         519  Started Vedolizamab for Crohn's diease April 2...\n",
       "209         520  Was in remission when I began entyvio, within ...\n",
       "212         523  10 years pancolitis.  Slipping and sliding wit...\n",
       "213         524  I had the worst experience with this medicatio...\n",
       "217         528  Very Good Experience with vedolizuma\\nStarted ...\n",
       "218         529  I was severely ill from my diagnosis of ulcera...\n",
       "219         530  I have had UC for about eight years and have b...\n",
       "220         531  The good:\\nIt worked incredibly well for me wh...\n",
       "221         532  I've had Crohn's for 20 years now- worst area ...\n",
       "222         533  Started Vedolizumab in December 2021 had two i...\n",
       "223         534  I had my 2nd loading dose. It floored me, cons...\n",
       "224         535  I have been on vedolizumab for 5 months. It ha...\n",
       "227         538  I have UC effecting my rectum and sigmoid. I h...\n",
       "230         541  I have been on Entyvio for about a year and a ...\n",
       "231         542  Started this drug vedolizumab in June 2020 aft...\n",
       "274         634  Wow. I have tried every medication from 6mp me...\n",
       "278         648  I was diagnosed with crohn’s disease at age 22..."
      ]
     },
     "execution_count": 6,
     "metadata": {},
     "output_type": "execute_result"
    }
   ],
   "source": [
    "df.loc[df.treatment.isna(), [\"text_index\", \"comment\"]]"
   ]
  },
  {
   "cell_type": "code",
   "execution_count": 7,
   "metadata": {},
   "outputs": [
    {
     "name": "stdout",
     "output_type": "stream",
     "text": [
      "Number of missing ratings: 14\n"
     ]
    }
   ],
   "source": [
    "print(\"Number of missing ratings:\", df.rate.isna().sum())"
   ]
  },
  {
   "cell_type": "markdown",
   "metadata": {},
   "source": [
    "Let's have a look at the share of distributions of diseases where information about the rating is missing."
   ]
  },
  {
   "cell_type": "code",
   "execution_count": 8,
   "metadata": {},
   "outputs": [
    {
     "data": {
      "text/plain": [
       "disease\n",
       "Crohn's Disease       10\n",
       "Ulcerative Colitis     4\n",
       "Name: disease, dtype: int64"
      ]
     },
     "execution_count": 8,
     "metadata": {},
     "output_type": "execute_result"
    }
   ],
   "source": [
    "df.loc[df.rate.isna()].groupby(\"disease\").disease.count()"
   ]
  },
  {
   "cell_type": "markdown",
   "metadata": {},
   "source": [
    "## Product portfolio"
   ]
  },
  {
   "cell_type": "code",
   "execution_count": 9,
   "metadata": {},
   "outputs": [
    {
     "data": {
      "text/plain": [
       "disease\n",
       "Crohn's Disease       159\n",
       "Ulcerative Colitis    122\n",
       "Name: count, dtype: int64"
      ]
     },
     "execution_count": 9,
     "metadata": {},
     "output_type": "execute_result"
    }
   ],
   "source": [
    "df.disease.value_counts()"
   ]
  },
  {
   "cell_type": "code",
   "execution_count": 10,
   "metadata": {},
   "outputs": [
    {
     "data": {
      "image/png": "[encoded data removed]",
      "text/plain": [
       "<Figure size 640x480 with 1 Axes>"
      ]
     },
     "metadata": {},
     "output_type": "display_data"
    }
   ],
   "source": [
    "df.disease.value_counts().plot(kind='bar');"
   ]
  },
  {
   "cell_type": "code",
   "execution_count": 11,
   "metadata": {},
   "outputs": [
    {
     "data": {
      "text/plain": [
       "antibody\n",
       "vedolizumab     110\n",
       "infliximab       77\n",
       "ustekinumab      29\n",
       "adalimumab       26\n",
       "certolizumab     11\n",
       "golimumab         9\n",
       "natalizumab       1\n",
       "Name: count, dtype: int64"
      ]
     },
     "execution_count": 11,
     "metadata": {},
     "output_type": "execute_result"
    }
   ],
   "source": [
    "df.antibody.value_counts()"
   ]
  },
  {
   "cell_type": "code",
   "execution_count": 12,
   "metadata": {},
   "outputs": [
    {
     "data": {
      "image/png": "[encoded data removed]",
      "text/plain": [
       "<Figure size 640x480 with 1 Axes>"
      ]
     },
     "metadata": {},
     "output_type": "display_data"
    }
   ],
   "source": [
    "df.antibody.value_counts().plot(kind='bar');"
   ]
  },
  {
   "cell_type": "code",
   "execution_count": 13,
   "metadata": {},
   "outputs": [
    {
     "data": {
      "text/plain": [
       "treatment\n",
       "Entyvio      110\n",
       "Remicade      68\n",
       "Stelara       29\n",
       "Humira        26\n",
       "Cimzia        11\n",
       "Inflectra      9\n",
       "Simponi        9\n",
       "Tysabri        1\n",
       "Name: count, dtype: int64"
      ]
     },
     "execution_count": 13,
     "metadata": {},
     "output_type": "execute_result"
    }
   ],
   "source": [
    "df.treatment.value_counts()"
   ]
  },
  {
   "cell_type": "code",
   "execution_count": 14,
   "metadata": {},
   "outputs": [
    {
     "data": {
      "image/png": "[encoded data removed]",
      "text/plain": [
       "<Figure size 640x480 with 1 Axes>"
      ]
     },
     "metadata": {},
     "output_type": "display_data"
    }
   ],
   "source": [
    "df.treatment.value_counts().plot(kind='bar');"
   ]
  },
  {
   "cell_type": "code",
   "execution_count": 15,
   "metadata": {},
   "outputs": [
    {
     "data": {
      "text/plain": [
       "disease             antibody      treatment\n",
       "Crohn's Disease     adalimumab    Humira       17\n",
       "                    certolizumab  Cimzia       11\n",
       "                    infliximab    Inflectra     6\n",
       "                                  Remicade     38\n",
       "                    natalizumab   Tysabri       1\n",
       "                    ustekinumab   Stelara      27\n",
       "                    vedolizumab   Entyvio      49\n",
       "Ulcerative Colitis  adalimumab    Humira        9\n",
       "                    golimumab     Simponi       9\n",
       "                    infliximab    Inflectra     3\n",
       "                                  Remicade     30\n",
       "                    ustekinumab   Stelara       2\n",
       "                    vedolizumab   Entyvio      61\n",
       "Name: treatment, dtype: int64"
      ]
     },
     "execution_count": 15,
     "metadata": {},
     "output_type": "execute_result"
    }
   ],
   "source": [
    "df.groupby([\"disease\", \"antibody\", \"treatment\"]).treatment.count()"
   ]
  },
  {
   "cell_type": "markdown",
   "metadata": {},
   "source": [
    "## Rating"
   ]
  },
  {
   "cell_type": "code",
   "execution_count": 16,
   "metadata": {},
   "outputs": [
    {
     "data": {
      "text/plain": [
       "disease             antibody      treatment\n",
       "Crohn's Disease     adalimumab    Humira        9.058824\n",
       "                    certolizumab  Cimzia        7.818182\n",
       "                    infliximab    Inflectra     2.500000\n",
       "                                  Remicade      7.571429\n",
       "                    natalizumab   Tysabri       3.000000\n",
       "                    ustekinumab   Stelara       6.913043\n",
       "                    vedolizumab   Entyvio       5.760870\n",
       "Ulcerative Colitis  adalimumab    Humira        8.444444\n",
       "                    golimumab     Simponi       5.555556\n",
       "                    infliximab    Inflectra     1.000000\n",
       "                                  Remicade      7.266667\n",
       "                    ustekinumab   Stelara      10.000000\n",
       "                    vedolizumab   Entyvio       5.649123\n",
       "Name: rate, dtype: float64"
      ]
     },
     "execution_count": 16,
     "metadata": {},
     "output_type": "execute_result"
    }
   ],
   "source": [
    "df.groupby([\"disease\", \"antibody\", \"treatment\"]).rate.agg(\"mean\")"
   ]
  },
  {
   "cell_type": "code",
   "execution_count": null,
   "metadata": {},
   "outputs": [],
   "source": []
  }
 ],
 "metadata": {
  "kernelspec": {
   "display_name": ".venv",
   "language": "python",
   "name": "python3"
  },
  "language_info": {
   "codemirror_mode": {
    "name": "ipython",
    "version": 3
   },
   "file_extension": ".py",
   "mimetype": "text/x-python",
   "name": "python",
   "nbconvert_exporter": "python",
   "pygments_lexer": "ipython3",
   "version": "3.10.7"
  },
  "orig_nbformat": 4
 },
 "nbformat": 4,
 "nbformat_minor": 2
}
